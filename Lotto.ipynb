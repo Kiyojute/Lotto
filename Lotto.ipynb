{
 "cells": [
  {
   "cell_type": "code",
   "execution_count": 2,
   "id": "8b1a79cc",
   "metadata": {},
   "outputs": [],
   "source": [
    "import pandas as pd\n",
    "import random\n"
   ]
  },
  {
   "cell_type": "code",
   "execution_count": 3,
   "id": "27e9306b",
   "metadata": {},
   "outputs": [],
   "source": [
    "# df = pd.read_csv('data.csv')"
   ]
  },
  {
   "cell_type": "code",
   "execution_count": 4,
   "id": "74099c2f",
   "metadata": {},
   "outputs": [],
   "source": [
    "# numbers = random.sample(range(1, 69), 5)\n",
    "# print(numbers)"
   ]
  },
  {
   "cell_type": "code",
   "execution_count": 5,
   "id": "257721f8",
   "metadata": {},
   "outputs": [
    {
     "name": "stdout",
     "output_type": "stream",
     "text": [
      "Pick5: [13, 19, 23, 61, 65]\n",
      "❌ No match found.\n"
     ]
    }
   ],
   "source": [
    "#Generating and sorting random pick of 5 numbers\n",
    "pick5 = random.sample(range(1, 69), 5)\n",
    "pick5_sorted = sorted(pick5)\n",
    "print(\"Pick5:\", pick5_sorted)\n",
    "\n",
    "\n",
    "df = pd.read_csv('Lotto.csv')\n",
    "df = df[['First', 'Second', 'Third', 'Fourth', 'Fifth']]\n",
    "\n",
    "#Converting all values to integers (coerce errors to NaN, then drop bad rows)\n",
    "df = df.apply(pd.to_numeric, errors='coerce').dropna().astype(int)\n",
    "\n",
    "#Sorting each row for consistent comparison\n",
    "df_sorted = df.apply(lambda row: sorted(row.tolist()), axis=1)\n",
    "\n",
    "#Checking for matches\n",
    "match_found = any(row == pick5_sorted for row in df_sorted)\n",
    "\n",
    "if match_found:\n",
    "    print(\"✅ Match found in CSV!\")\n",
    "else:\n",
    "    print(\"❌ No match found.\")"
   ]
  },
  {
   "cell_type": "code",
   "execution_count": 10,
   "id": "09de7ce3",
   "metadata": {},
   "outputs": [
    {
     "name": "stdout",
     "output_type": "stream",
     "text": [
      "[22]\n"
     ]
    }
   ],
   "source": [
    "pick1 = random.sample(range(1, 25), 1)\n",
    "print(pick1)"
   ]
  }
 ],
 "metadata": {
  "kernelspec": {
   "display_name": "Python 3",
   "language": "python",
   "name": "python3"
  },
  "language_info": {
   "codemirror_mode": {
    "name": "ipython",
    "version": 3
   },
   "file_extension": ".py",
   "mimetype": "text/x-python",
   "name": "python",
   "nbconvert_exporter": "python",
   "pygments_lexer": "ipython3",
   "version": "3.13.1"
  }
 },
 "nbformat": 4,
 "nbformat_minor": 5
}
