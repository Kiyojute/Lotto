{
 "cells": [
  {
   "cell_type": "code",
   "execution_count": 8,
   "id": "8b1a79cc",
   "metadata": {},
   "outputs": [],
   "source": [
    "import pandas as pd\n",
    "import random\n"
   ]
  },
  {
   "cell_type": "code",
   "execution_count": 9,
   "id": "27e9306b",
   "metadata": {},
   "outputs": [],
   "source": [
    "# df = pd.read_csv('data.csv')"
   ]
  },
  {
   "cell_type": "code",
   "execution_count": 10,
   "id": "74099c2f",
   "metadata": {},
   "outputs": [],
   "source": [
    "# numbers = random.sample(range(1, 69), 5)\n",
    "# print(numbers)"
   ]
  },
  {
   "cell_type": "code",
   "execution_count": 11,
   "id": "257721f8",
   "metadata": {},
   "outputs": [
    {
     "name": "stdout",
     "output_type": "stream",
     "text": [
      "Power Ball 5: [8, 9, 21, 35, 57]\n",
      "❌ No match found.\n"
     ]
    }
   ],
   "source": [
    "#Generating and sorting random pick of 5 numbers\n",
    "powerB5 = random.sample(range(1, 69), 5)\n",
    "powerB5_sorted = sorted(powerB5)\n",
    "print(\"Power Ball 5:\", powerB5_sorted)\n",
    "\n",
    "\n",
    "df = pd.read_csv('Lotto.csv')\n",
    "df = df[['First', 'Second', 'Third', 'Fourth', 'Fifth']]\n",
    "\n",
    "#Converting all values to integers (coerce errors to NaN, then drop bad rows)\n",
    "df = df.apply(pd.to_numeric, errors='coerce').dropna().astype(int)\n",
    "\n",
    "#Sorting each row for consistent comparison\n",
    "df_sorted = df.apply(lambda row: sorted(row.tolist()), axis=1)\n",
    "\n",
    "#Checking for matches\n",
    "match_found = any(row == powerB5_sorted for row in df_sorted)\n",
    "\n",
    "if match_found:\n",
    "    print(\"✅ Match found in CSV!\")\n",
    "else:\n",
    "    print(\"❌ No match found.\")"
   ]
  },
  {
   "cell_type": "code",
   "execution_count": 12,
   "id": "09de7ce3",
   "metadata": {},
   "outputs": [
    {
     "name": "stdout",
     "output_type": "stream",
     "text": [
      "Power Ball [7]\n"
     ]
    }
   ],
   "source": [
    "powerB1 = random.sample(range(1, 25), 1)\n",
    "print('Power Ball', powerB1)"
   ]
  },
  {
   "cell_type": "code",
   "execution_count": 13,
   "id": "a43562fc",
   "metadata": {},
   "outputs": [
    {
     "name": "stdout",
     "output_type": "stream",
     "text": [
      "Cash Ball 5: [4, 11, 15, 26]\n",
      "❌ No match found.\n"
     ]
    }
   ],
   "source": [
    "#Generating and sorting random pick of 5 numbers\n",
    "cashB4 = random.sample(range(1, 35), 4)\n",
    "cashB4_sorted = sorted(cashB4)\n",
    "print(\"Cash Ball 5:\", cashB4_sorted)\n",
    "\n",
    "\n",
    "df = pd.read_csv('Lotto.csv')\n",
    "df = df[['First', 'Second', 'Third', 'Fourth', 'Fifth']]\n",
    "\n",
    "#Converting all values to integers (coerce errors to NaN, then drop bad rows)\n",
    "df = df.apply(pd.to_numeric, errors='coerce').dropna().astype(int)\n",
    "\n",
    "#Sorting each row for consistent comparison\n",
    "df_sorted = df.apply(lambda row: sorted(row.tolist()), axis=1)\n",
    "\n",
    "#Checking for matches\n",
    "match_found = any(row == cashB4_sorted for row in df_sorted)\n",
    "\n",
    "if match_found:\n",
    "    print(\"✅ Match found in CSV!\")\n",
    "else:\n",
    "    print(\"❌ No match found.\")"
   ]
  },
  {
   "cell_type": "code",
   "execution_count": 14,
   "id": "ab8d8f2f",
   "metadata": {},
   "outputs": [
    {
     "name": "stdout",
     "output_type": "stream",
     "text": [
      "Cash Ball [2]\n"
     ]
    }
   ],
   "source": [
    "cashB1 = random.sample(range(1, 25), 1)\n",
    "print('Cash Ball', cashB1)"
   ]
  },
  {
   "cell_type": "code",
   "execution_count": 16,
   "id": "3cf51542",
   "metadata": {},
   "outputs": [
    {
     "name": "stdout",
     "output_type": "stream",
     "text": [
      "Lucky 5: [6, 13, 32, 38]\n",
      "❌ No match found.\n"
     ]
    }
   ],
   "source": [
    "#Generating and sorting random pick of 5 numbers\n",
    "Lucky5 = random.sample(range(1, 48), 4)\n",
    "Lucky5_sorted = sorted(Lucky5)\n",
    "print(\"Lucky 5:\", Lucky5_sorted)\n",
    "\n",
    "\n",
    "df = pd.read_csv('Lotto.csv')\n",
    "df = df[['First', 'Second', 'Third', 'Fourth', 'Fifth']]\n",
    "\n",
    "#Converting all values to integers (coerce errors to NaN, then drop bad rows)\n",
    "df = df.apply(pd.to_numeric, errors='coerce').dropna().astype(int)\n",
    "\n",
    "#Sorting each row for consistent comparison\n",
    "df_sorted = df.apply(lambda row: sorted(row.tolist()), axis=1)\n",
    "\n",
    "#Checking for matches\n",
    "match_found = any(row == Lucky5_sorted for row in df_sorted)\n",
    "\n",
    "if match_found:\n",
    "    print(\"✅ Match found in CSV!\")\n",
    "else:\n",
    "    print(\"❌ No match found.\")"
   ]
  },
  {
   "cell_type": "code",
   "execution_count": 17,
   "id": "379dc8f5",
   "metadata": {},
   "outputs": [
    {
     "name": "stdout",
     "output_type": "stream",
     "text": [
      "Lucky Ball [9]\n"
     ]
    }
   ],
   "source": [
    "Lucky1 = random.sample(range(1, 18), 1)\n",
    "print('Lucky Ball', Lucky1)"
   ]
  }
 ],
 "metadata": {
  "kernelspec": {
   "display_name": "Python 3",
   "language": "python",
   "name": "python3"
  },
  "language_info": {
   "codemirror_mode": {
    "name": "ipython",
    "version": 3
   },
   "file_extension": ".py",
   "mimetype": "text/x-python",
   "name": "python",
   "nbconvert_exporter": "python",
   "pygments_lexer": "ipython3",
   "version": "3.13.1"
  }
 },
 "nbformat": 4,
 "nbformat_minor": 5
}
